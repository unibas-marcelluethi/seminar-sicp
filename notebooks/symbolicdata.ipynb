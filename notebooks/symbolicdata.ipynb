{
 "cells": [
  {
   "cell_type": "markdown",
   "metadata": {},
   "source": [
    "# Symbolische Daten"
   ]
  },
  {
   "cell_type": "markdown",
   "metadata": {},
   "source": [
    "#### Marcel Lüthi, Departement Mathematik und Informatik, Universität Basel"
   ]
  },
  {
   "cell_type": "markdown",
   "metadata": {},
   "source": [
    "### Symbole in Scheme"
   ]
  },
  {
   "cell_type": "markdown",
   "metadata": {},
   "source": [
    "Symbole in Scheme sind ähnlich wie Strings beliebige Charactersequenzen. Im Gegensatz zu String müssen Symbole aber eindeutig sein. "
   ]
  },
  {
   "cell_type": "markdown",
   "metadata": {},
   "source": [
    "Beispiele von Symbolen:"
   ]
  },
  {
   "cell_type": "code",
   "execution_count": 43,
   "metadata": {},
   "outputs": [
    {
     "data": {
      "text/html": [
       "<code>'a</code>"
      ],
      "text/plain": [
       "'a"
      ]
     },
     "execution_count": 43,
     "metadata": {},
     "output_type": "execute_result"
    }
   ],
   "source": [
    "'a"
   ]
  },
  {
   "cell_type": "code",
   "execution_count": 53,
   "metadata": {},
   "outputs": [
    {
     "data": {
      "text/html": [
       "<code>'abracadabra</code>"
      ],
      "text/plain": [
       "'abracadabra"
      ]
     },
     "execution_count": 53,
     "metadata": {},
     "output_type": "execute_result"
    }
   ],
   "source": [
    "'abracadabra"
   ]
  },
  {
   "cell_type": "markdown",
   "metadata": {},
   "source": [
    "Das Quote Zeichen ```'``` bezieht sich dabei immer nur auf das nächste Symbol, wie wir hier sehen:"
   ]
  },
  {
   "cell_type": "code",
   "execution_count": 60,
   "metadata": {},
   "outputs": [
    {
     "data": {
      "text/html": [
       "<code>'(a 7)</code>"
      ],
      "text/plain": [
       "'(a 7)"
      ]
     },
     "execution_count": 60,
     "metadata": {},
     "output_type": "execute_result"
    }
   ],
   "source": [
    "(define a 5)\n",
    "(define b 7)\n",
    "(list 'a b)"
   ]
  },
  {
   "cell_type": "markdown",
   "metadata": {},
   "source": [
    "Um festzustellen, ob ein bestimmtes Objekt einem Symbol entspricht, nutzen wir das Prädikat ```symbol?```. "
   ]
  },
  {
   "cell_type": "code",
   "execution_count": 62,
   "metadata": {},
   "outputs": [
    {
     "data": {
      "text/html": [
       "<code>#t</code>"
      ],
      "text/plain": [
       "#t"
      ]
     },
     "execution_count": 62,
     "metadata": {},
     "output_type": "execute_result"
    }
   ],
   "source": [
    "(symbol? 'a)"
   ]
  },
  {
   "cell_type": "code",
   "execution_count": 64,
   "metadata": {},
   "outputs": [
    {
     "data": {
      "text/html": [
       "<code>#f</code>"
      ],
      "text/plain": [
       "#f"
      ]
     },
     "execution_count": 64,
     "metadata": {},
     "output_type": "execute_result"
    }
   ],
   "source": [
    "(symbol? a)"
   ]
  },
  {
   "cell_type": "code",
   "execution_count": 70,
   "metadata": {},
   "outputs": [
    {
     "data": {
      "text/html": [
       "<code>#f</code>"
      ],
      "text/plain": [
       "#f"
      ]
     },
     "execution_count": 70,
     "metadata": {},
     "output_type": "execute_result"
    }
   ],
   "source": [
    "(symbol? \"a\")"
   ]
  },
  {
   "cell_type": "markdown",
   "metadata": {},
   "source": [
    "Zusammen mit dem Prädikat ```number?``` können wir nun auch programmatisch zwischen einem Symbol und einem numerischen Wert, der dieses Symol repräsentiert unterscheiden. "
   ]
  },
  {
   "cell_type": "code",
   "execution_count": 72,
   "metadata": {},
   "outputs": [
    {
     "data": {
      "text/html": [
       "<code>#t</code>"
      ],
      "text/plain": [
       "#t"
      ]
     },
     "execution_count": 72,
     "metadata": {},
     "output_type": "execute_result"
    }
   ],
   "source": [
    "(number? a)"
   ]
  },
  {
   "cell_type": "code",
   "execution_count": 74,
   "metadata": {},
   "outputs": [
    {
     "data": {
      "text/html": [
       "<code>#f</code>"
      ],
      "text/plain": [
       "#f"
      ]
     },
     "execution_count": 74,
     "metadata": {},
     "output_type": "execute_result"
    }
   ],
   "source": [
    "(number? 'a)"
   ]
  },
  {
   "cell_type": "markdown",
   "metadata": {},
   "source": [
    "In unserem nächsten Anwendungsbeispiel, bei dem wir unseren ersten kleinen Interpreter implementieren, werden wir genau diese Eigenschaft ausnutzen. "
   ]
  },
  {
   "cell_type": "markdown",
   "metadata": {},
   "source": [
    "### Anwendungsbeispiel: Symbolische Differentiation"
   ]
  },
  {
   "cell_type": "markdown",
   "metadata": {},
   "source": [
    "In diesem Anwendungsbeispiel entwickeln wir einen Teil eines Systems zur automatischen Differentiation. Dieses Beispiel illusriert, wie wir mit symbolischen Ausdrücken arbeiten und diese manipulieren können. Hier werden bereits viele Komponenten erklärt, die wir auch später bei der Implementation unseres eigenen Lisp Interpreters nutzen werden. "
   ]
  },
  {
   "cell_type": "markdown",
   "metadata": {},
   "source": [
    "Unsere Funktion ```deriv``` nimmt einen Ausdruck abzuleitenden Ausdruck ```exp``` sowie die Variable nach der wir differentieren wollen als Argumente entgegen, und gibt den korrekt abgeleiteten Ausdruck zurück. Wir implementieren hier nur die Summenregel. Die Implementation der Produktregel überlassen wir Ihnen als Übungsaufgabe. "
   ]
  },
  {
   "cell_type": "code",
   "execution_count": 41,
   "metadata": {},
   "outputs": [],
   "source": [
    "(define (deriv exp var)\n",
    "  (cond ((number? exp) 0)\n",
    "        ((variable? exp)\n",
    "         (if (same-variable? exp var) 1 0))\n",
    "        ((sum? exp)\n",
    "         (make-sum (deriv (addend exp) var)\n",
    "                   (deriv (augend exp) var)))        \n",
    "        ((product? exp)         \n",
    "         (make-sum\n",
    "          (make-product (multiplier exp)\n",
    "                        (deriv (multiplicand exp) var))\n",
    "          (make-product (deriv (multiplier exp) var)\n",
    "                        (multiplicand exp))))\n",
    "        (else\n",
    "         (error \"unknown expression type -- DERIV\" exp))))"
   ]
  },
  {
   "cell_type": "markdown",
   "metadata": {},
   "source": [
    "Das Grundgerüst ist einfach zu verstehen. \n",
    "\n",
    "* Die erste Regel ist die Regel zur Ableitung von Konstanten. Eine Konstante nach einer beliebigen Variable abgeleitet gibt immer 0. \n",
    "* Die zweite Regel kommt zur Anwendung, wenn als Ausruck nur eine Variable haben. Dann müssen wir unterscheiden, ob es sich um die Variable handelt nach der wir ableiten wollen, oder eine andere Variable. Wir nutzen dafür die folgenden zwei Hilfsfunktionen:\n",
    "* Der letzten zwei Fälle treffen ein, wenn wir eine Summe oder ein Produkt differentieren wollen. In diesem Fall werden einfach die entsprechenden Ableitungsformeln angewendet.  "
   ]
  },
  {
   "cell_type": "markdown",
   "metadata": {},
   "source": [
    "Die obige Implementation nutzt einige Hilfsfunktionen, die zwar intuitiv einfach zu verstehen sind, die wir aber noch definieren müssen. "
   ]
  },
  {
   "cell_type": "markdown",
   "metadata": {},
   "source": [
    "Als erstes brauchen wir eine Funktion um zu entscheiden, ob es sich bei einem Ausdruck um eine Variable handelt. Eine Variable definieren wir einfach als Symbol:"
   ]
  },
  {
   "cell_type": "code",
   "execution_count": 2,
   "metadata": {},
   "outputs": [],
   "source": [
    "(define (variable? v) (symbol? v))"
   ]
  },
  {
   "cell_type": "markdown",
   "metadata": {},
   "source": [
    "Die nächste Funktion stellt fest, ob die zwei Ausdrücke dieselbe Variable repräsentieren. "
   ]
  },
  {
   "cell_type": "code",
   "execution_count": 3,
   "metadata": {},
   "outputs": [],
   "source": [
    "(define (same-variable? v1 v2) (and (variable? v1) (variable? v2) (eq? v1 v2)))"
   ]
  },
  {
   "cell_type": "markdown",
   "metadata": {},
   "source": [
    "Schlussendlich müssen wir noch definieren, wie wir mit Summen arbeiten."
   ]
  },
  {
   "cell_type": "markdown",
   "metadata": {},
   "source": [
    " Wir repräsentieren eine Summe als Liste, wobei das erste Argument das Symbol ```'+``` ist. Damit können wir erkennen, dass es sich beim Ausdruck um eine Summe handelt. Dies wird in folgendem Konstruktor definiert:"
   ]
  },
  {
   "cell_type": "code",
   "execution_count": 4,
   "metadata": {},
   "outputs": [],
   "source": [
    "(define (make-sum a1 a2) (list '+ a1 a2)) "
   ]
  },
  {
   "cell_type": "markdown",
   "metadata": {},
   "source": [
    "Um zu entscheiden, ob es sich bei einem Ausdruck (einer Liste) um eine Summe handelt, muss das erste Element das Symbol ```'+``` sein gefolgt von einem Paar von weiteren Ausdrücken.  "
   ]
  },
  {
   "cell_type": "code",
   "execution_count": 6,
   "metadata": {},
   "outputs": [],
   "source": [
    "(define (sum? x)   ; Ist x eine Summe\n",
    "  (and (pair? x) (eq? (car x) '+)))"
   ]
  },
  {
   "cell_type": "markdown",
   "metadata": {},
   "source": [
    "Nun definieren wir noch die Zugriffsfunktionen, um auf die beiden Summanden zuzugreifen:"
   ]
  },
  {
   "cell_type": "code",
   "execution_count": 8,
   "metadata": {},
   "outputs": [],
   "source": [
    "(define (addend s) (cadr s)) ; summand1\n",
    "(define (augend s) (caddr s)) ; summand2\n"
   ]
  },
  {
   "cell_type": "markdown",
   "metadata": {},
   "source": [
    "Und schlussendlich noch dasselbe für Produkte"
   ]
  },
  {
   "cell_type": "code",
   "execution_count": 30,
   "metadata": {},
   "outputs": [],
   "source": [
    "(define (make-product m1 m2) (list '* m1 m2))"
   ]
  },
  {
   "cell_type": "code",
   "execution_count": 31,
   "metadata": {},
   "outputs": [],
   "source": [
    "(define (multiplier p) (cadr p))"
   ]
  },
  {
   "cell_type": "code",
   "execution_count": 32,
   "metadata": {},
   "outputs": [],
   "source": [
    "(define (multiplicand p) (caddr p))"
   ]
  },
  {
   "cell_type": "markdown",
   "metadata": {},
   "source": [
    "Nun können wir unseren ersten Interpreter ausprobieren:"
   ]
  },
  {
   "cell_type": "code",
   "execution_count": 33,
   "metadata": {},
   "outputs": [
    {
     "data": {
      "text/html": [
       "<code>'(+ 1 0)</code>"
      ],
      "text/plain": [
       "'(+ 1 0)"
      ]
     },
     "execution_count": 33,
     "metadata": {},
     "output_type": "execute_result"
    }
   ],
   "source": [
    "(deriv '(+ x 3) 'x)"
   ]
  },
  {
   "cell_type": "code",
   "execution_count": 34,
   "metadata": {},
   "outputs": [
    {
     "data": {
      "text/html": [
       "<code>'(+ (* x 0) (* 1 y))</code>"
      ],
      "text/plain": [
       "'(+ (* x 0) (* 1 y))"
      ]
     },
     "execution_count": 34,
     "metadata": {},
     "output_type": "execute_result"
    }
   ],
   "source": [
    "(deriv '(* x y) 'x)"
   ]
  },
  {
   "cell_type": "code",
   "execution_count": 35,
   "metadata": {},
   "outputs": [
    {
     "data": {
      "text/html": [
       "<code>'(+ (* (* x y) (+ 1 0)) (* (+ (* x 0) (* 1 y)) (+ x 3)))</code>"
      ],
      "text/plain": [
       "'(+ (* (* x y) (+ 1 0)) (* (+ (* x 0) (* 1 y)) (+ x 3)))"
      ]
     },
     "execution_count": 35,
     "metadata": {},
     "output_type": "execute_result"
    }
   ],
   "source": [
    "(deriv '(* (* x y) (+ x 3)) 'x)"
   ]
  },
  {
   "cell_type": "markdown",
   "metadata": {},
   "source": [
    "#### Miniübung"
   ]
  },
  {
   "cell_type": "markdown",
   "metadata": {},
   "source": [
    "* Beim obigen Ausdruck entstehen unschöne Ableitungen wie ```'(+ 0 (+ 1 0))```. Wie würden Sie das Programm abändern, so dass dieser zu ```1``` vereinfacht wird?\n",
    "* Erweitern Sie das Programm um weitere Regeln, wie der Kettenregel\n"
   ]
  },
  {
   "cell_type": "markdown",
   "metadata": {},
   "source": [
    "### Typen (Tagged data)"
   ]
  },
  {
   "cell_type": "markdown",
   "metadata": {},
   "source": [
    "Um zu erkennen, um welchen Type von Ausdruck es sich bei einer Liste handelt, haben wir uns im ersten Element der Liste den Typ als Symbol gespeichert. "
   ]
  },
  {
   "cell_type": "code",
   "execution_count": 42,
   "metadata": {},
   "outputs": [],
   "source": [
    "(define (make-sum a1 a2) (cons '+ a1 a2))"
   ]
  },
  {
   "cell_type": "markdown",
   "metadata": {},
   "source": [
    "Wir können diesen Ansatz generalisieren und mit den folgenden Hilfsfunktionien für die Typisierung von Listen definieren. "
   ]
  },
  {
   "cell_type": "code",
   "execution_count": 44,
   "metadata": {},
   "outputs": [],
   "source": [
    "; Typinformation hinzufügen\n",
    "(define (attach-tag type-tag contents) \n",
    "  (cons type-tag contents))\n",
    "\n",
    "; Auf Typinformation zugreifen\n",
    "(define (type-tag typed-content)\n",
    "  (car typed-content))\n",
    "\n",
    " ; Auf Inhalt zugreifen\n",
    "(define (content typed-content) (cdr typed-content))"
   ]
  },
  {
   "cell_type": "markdown",
   "metadata": {},
   "source": [
    "Nun können wir unsere Daten einfach typisieren:"
   ]
  },
  {
   "cell_type": "code",
   "execution_count": 45,
   "metadata": {},
   "outputs": [],
   "source": [
    "(define sumExpr (attach-tag '+ (list 'a 'b) ))\n",
    "(define numberExpr (attach-tag 'number 5 ))\n",
    "(define variableExpr (attach-tag 'variable 'a))"
   ]
  },
  {
   "cell_type": "markdown",
   "metadata": {},
   "source": [
    "Unser Programm um Ableitungen zu berechnen sieht dann wie folgt aus:"
   ]
  },
  {
   "cell_type": "code",
   "execution_count": 46,
   "metadata": {},
   "outputs": [],
   "source": [
    "(define (deriv exp var)\n",
    "  (cond ((eq? (type-tag exp) 'number) 0)\n",
    "        ((eq? (type-tag exp) 'variable)\n",
    "         (if (same-variable? exp var) 1 0))\n",
    "        ((eq? (type-tag exp) '+)\n",
    "         (make-sum (deriv (addend exp) var)\n",
    "                   (deriv (augend exp) var)))        \n",
    "        (else\n",
    "         (error \"unknown expression type -- DERIV\" exp))))\n",
    "(define (same-variable? exp var)\n",
    "  (eq? (content exp) (content var)))"
   ]
  },
  {
   "cell_type": "code",
   "execution_count": null,
   "metadata": {},
   "outputs": [],
   "source": []
  }
 ],
 "metadata": {
  "kernelspec": {
   "display_name": "Racket",
   "language": "racket",
   "name": "racket"
  },
  "language_info": {
   "codemirror_mode": "scheme",
   "file_extension": ".rkt",
   "mimetype": "text/x-racket",
   "name": "Racket",
   "pygments_lexer": "racket",
   "version": "7.9"
  }
 },
 "nbformat": 4,
 "nbformat_minor": 5
}
